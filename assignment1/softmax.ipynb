{
 "cells": [
  {
   "cell_type": "markdown",
   "metadata": {},
   "source": [
    "# Softmax exercise\n",
    "\n",
    "*Complete and hand in this completed worksheet (including its outputs and any supporting code outside of the worksheet) with your assignment submission. For more details see the [assignments page](http://vision.stanford.edu/teaching/cs231n/assignments.html) on the course website.*\n",
    "\n",
    "This exercise is analogous to the SVM exercise. You will:\n",
    "\n",
    "- implement a fully-vectorized **loss function** for the Softmax classifier\n",
    "- implement the fully-vectorized expression for its **analytic gradient**\n",
    "- **check your implementation** with numerical gradient\n",
    "- use a validation set to **tune the learning rate and regularization** strength\n",
    "- **optimize** the loss function with **SGD**\n",
    "- **visualize** the final learned weights\n"
   ]
  },
  {
   "cell_type": "code",
   "execution_count": 10,
   "metadata": {
    "collapsed": false
   },
   "outputs": [
    {
     "name": "stdout",
     "output_type": "stream",
     "text": [
      "The autoreload extension is already loaded. To reload it, use:\n",
      "  %reload_ext autoreload\n"
     ]
    }
   ],
   "source": [
    "import random\n",
    "import numpy as np\n",
    "from cs231n.data_utils import load_CIFAR10\n",
    "import matplotlib.pyplot as plt\n",
    "%matplotlib inline\n",
    "plt.rcParams['figure.figsize'] = (10.0, 8.0) # set default size of plots\n",
    "plt.rcParams['image.interpolation'] = 'nearest'\n",
    "plt.rcParams['image.cmap'] = 'gray'\n",
    "\n",
    "# for auto-reloading extenrnal modules\n",
    "# see http://stackoverflow.com/questions/1907993/autoreload-of-modules-in-ipython\n",
    "%load_ext autoreload\n",
    "%autoreload 2"
   ]
  },
  {
   "cell_type": "code",
   "execution_count": 11,
   "metadata": {
    "collapsed": false
   },
   "outputs": [
    {
     "name": "stdout",
     "output_type": "stream",
     "text": [
      "Train data shape:  (49000, 3073)\n",
      "Train labels shape:  (49000,)\n",
      "Validation data shape:  (1000, 3073)\n",
      "Validation labels shape:  (1000,)\n",
      "Test data shape:  (1000, 3073)\n",
      "Test labels shape:  (1000,)\n",
      "dev data shape:  (500, 3073)\n",
      "dev labels shape:  (500,)\n"
     ]
    }
   ],
   "source": [
    "def get_CIFAR10_data(num_training=49000, num_validation=1000, num_test=1000, num_dev=500):\n",
    "  \"\"\"\n",
    "  Load the CIFAR-10 dataset from disk and perform preprocessing to prepare\n",
    "  it for the linear classifier. These are the same steps as we used for the\n",
    "  SVM, but condensed to a single function.  \n",
    "  \"\"\"\n",
    "  # Load the raw CIFAR-10 data\n",
    "  cifar10_dir = 'cs231n/datasets/cifar-10-batches-py'\n",
    "  X_train, y_train, X_test, y_test = load_CIFAR10(cifar10_dir)\n",
    "  \n",
    "  # subsample the data\n",
    "  mask = range(num_training, num_training + num_validation)\n",
    "  X_val = X_train[mask]\n",
    "  y_val = y_train[mask]\n",
    "  mask = range(num_training)\n",
    "  X_train = X_train[mask]\n",
    "  y_train = y_train[mask]\n",
    "  mask = range(num_test)\n",
    "  X_test = X_test[mask]\n",
    "  y_test = y_test[mask]\n",
    "  mask = np.random.choice(num_training, num_dev, replace=False)\n",
    "  X_dev = X_train[mask]\n",
    "  y_dev = y_train[mask]\n",
    "  \n",
    "  # Preprocessing: reshape the image data into rows\n",
    "  X_train = np.reshape(X_train, (X_train.shape[0], -1))\n",
    "  X_val = np.reshape(X_val, (X_val.shape[0], -1))\n",
    "  X_test = np.reshape(X_test, (X_test.shape[0], -1))\n",
    "  X_dev = np.reshape(X_dev, (X_dev.shape[0], -1))\n",
    "  \n",
    "  # Normalize the data: subtract the mean image\n",
    "  mean_image = np.mean(X_train, axis = 0)\n",
    "  X_train -= mean_image\n",
    "  X_val -= mean_image\n",
    "  X_test -= mean_image\n",
    "  X_dev -= mean_image\n",
    "  \n",
    "  # add bias dimension and transform into columns\n",
    "  X_train = np.hstack([X_train, np.ones((X_train.shape[0], 1))])\n",
    "  X_val = np.hstack([X_val, np.ones((X_val.shape[0], 1))])\n",
    "  X_test = np.hstack([X_test, np.ones((X_test.shape[0], 1))])\n",
    "  X_dev = np.hstack([X_dev, np.ones((X_dev.shape[0], 1))])\n",
    "  \n",
    "  return X_train, y_train, X_val, y_val, X_test, y_test, X_dev, y_dev\n",
    "\n",
    "\n",
    "# Invoke the above function to get our data.\n",
    "X_train, y_train, X_val, y_val, X_test, y_test, X_dev, y_dev = get_CIFAR10_data()\n",
    "print 'Train data shape: ', X_train.shape\n",
    "print 'Train labels shape: ', y_train.shape\n",
    "print 'Validation data shape: ', X_val.shape\n",
    "print 'Validation labels shape: ', y_val.shape\n",
    "print 'Test data shape: ', X_test.shape\n",
    "print 'Test labels shape: ', y_test.shape\n",
    "print 'dev data shape: ', X_dev.shape\n",
    "print 'dev labels shape: ', y_dev.shape"
   ]
  },
  {
   "cell_type": "markdown",
   "metadata": {},
   "source": [
    "## Softmax Classifier\n",
    "\n",
    "Your code for this section will all be written inside **cs231n/classifiers/softmax.py**. \n"
   ]
  },
  {
   "cell_type": "code",
   "execution_count": 12,
   "metadata": {
    "collapsed": false
   },
   "outputs": [
    {
     "name": "stdout",
     "output_type": "stream",
     "text": [
      "loss: 2.323100\n",
      "sanity check: 2.302585\n"
     ]
    }
   ],
   "source": [
    "# First implement the naive softmax loss function with nested loops.\n",
    "# Open the file cs231n/classifiers/softmax.py and implement the\n",
    "# softmax_loss_naive function.\n",
    "\n",
    "from cs231n.classifiers.softmax import softmax_loss_naive\n",
    "import time\n",
    "\n",
    "# Generate a random softmax weight matrix and use it to compute the loss.\n",
    "W = np.random.randn(3073, 10) * 0.0001\n",
    "loss, grad = softmax_loss_naive(W, X_dev, y_dev, 0.0)\n",
    "\n",
    "# As a rough sanity check, our loss should be something close to -log(0.1).\n",
    "print 'loss: %f' % loss\n",
    "print 'sanity check: %f' % (-np.log(0.1))"
   ]
  },
  {
   "cell_type": "markdown",
   "metadata": {},
   "source": [
    "## Inline Question 1:\n",
    "Why do we expect our loss to be close to -log(0.1)? Explain briefly.**\n",
    "\n",
    "**Your answer:** We have 10 classes. Because each class is equally likely a priori, we expect the average probability of each class to be ~0.1. The expected value for the loss is then -log(0.1).\n"
   ]
  },
  {
   "cell_type": "code",
   "execution_count": 13,
   "metadata": {
    "collapsed": false
   },
   "outputs": [
    {
     "name": "stdout",
     "output_type": "stream",
     "text": [
      "numerical: 1.608772 analytic: 1.608772, relative error: 1.713979e-08\n",
      "numerical: 0.790283 analytic: 0.790283, relative error: 5.525939e-08\n",
      "numerical: 1.395656 analytic: 1.395656, relative error: 8.036866e-08\n",
      "numerical: -0.837351 analytic: -0.837351, relative error: 8.581019e-09\n",
      "numerical: 2.318914 analytic: 2.318915, relative error: 2.718635e-08\n",
      "numerical: 0.916156 analytic: 0.916156, relative error: 5.097782e-08\n",
      "numerical: 0.754835 analytic: 0.754835, relative error: 3.915782e-09\n",
      "numerical: -0.271071 analytic: -0.271071, relative error: 9.188126e-08\n",
      "numerical: -2.436217 analytic: -2.436217, relative error: 2.807003e-08\n",
      "numerical: -0.446791 analytic: -0.446791, relative error: 2.080981e-08\n",
      "numerical: 2.121098 analytic: 2.121098, relative error: 2.146194e-08\n",
      "numerical: -0.483371 analytic: -0.483371, relative error: 3.374251e-08\n",
      "numerical: 2.404872 analytic: 2.404872, relative error: 1.967385e-09\n",
      "numerical: 1.718907 analytic: 1.718907, relative error: 5.580917e-08\n",
      "numerical: -1.263071 analytic: -1.263071, relative error: 1.780655e-08\n",
      "numerical: -0.014970 analytic: -0.014970, relative error: 1.548465e-06\n",
      "numerical: -1.093418 analytic: -1.093418, relative error: 1.245149e-08\n",
      "numerical: 1.876761 analytic: 1.876761, relative error: 9.660803e-09\n",
      "numerical: -1.042856 analytic: -1.042856, relative error: 3.953965e-08\n",
      "numerical: 0.261517 analytic: 0.261517, relative error: 1.958187e-07\n"
     ]
    }
   ],
   "source": [
    "# Complete the implementation of softmax_loss_naive and implement a (naive)\n",
    "# version of the gradient that uses nested loops.\n",
    "loss, grad = softmax_loss_naive(W, X_dev, y_dev, 0.0)\n",
    "\n",
    "# As we did for the SVM, use numeric gradient checking as a debugging tool.\n",
    "# The numeric gradient should be close to the analytic gradient.\n",
    "from cs231n.gradient_check import grad_check_sparse\n",
    "f = lambda w: softmax_loss_naive(w, X_dev, y_dev, 0.0)[0]\n",
    "grad_numerical = grad_check_sparse(f, W, grad, 10)\n",
    "\n",
    "# similar to SVM case, do another gradient check with regularization\n",
    "loss, grad = softmax_loss_naive(W, X_dev, y_dev, 1e2)\n",
    "f = lambda w: softmax_loss_naive(w, X_dev, y_dev, 1e2)[0]\n",
    "grad_numerical = grad_check_sparse(f, W, grad, 10)"
   ]
  },
  {
   "cell_type": "code",
   "execution_count": 15,
   "metadata": {
    "collapsed": false
   },
   "outputs": [
    {
     "name": "stdout",
     "output_type": "stream",
     "text": [
      "naive loss: 2.323100e+00 computed in 0.208112s\n",
      "vectorized loss: 2.323100e+00 computed in 0.008873s\n",
      "Loss difference: 0.000000\n",
      "Gradient difference: 0.000000\n"
     ]
    }
   ],
   "source": [
    "# Now that we have a naive implementation of the softmax loss function and its gradient,\n",
    "# implement a vectorized version in softmax_loss_vectorized.\n",
    "# The two versions should compute the same results, but the vectorized version should be\n",
    "# much faster.\n",
    "tic = time.time()\n",
    "loss_naive, grad_naive = softmax_loss_naive(W, X_dev, y_dev, 0.00001)\n",
    "toc = time.time()\n",
    "print 'naive loss: %e computed in %fs' % (loss_naive, toc - tic)\n",
    "\n",
    "from cs231n.classifiers.softmax import softmax_loss_vectorized\n",
    "tic = time.time()\n",
    "loss_vectorized, grad_vectorized = softmax_loss_vectorized(W, X_dev, y_dev, 0.00001)\n",
    "toc = time.time()\n",
    "print 'vectorized loss: %e computed in %fs' % (loss_vectorized, toc - tic)\n",
    "\n",
    "# As we did for the SVM, we use the Frobenius norm to compare the two versions\n",
    "# of the gradient.\n",
    "grad_difference = np.linalg.norm(grad_naive - grad_vectorized, ord='fro')\n",
    "print 'Loss difference: %f' % np.abs(loss_naive - loss_vectorized)\n",
    "print 'Gradient difference: %f' % grad_difference"
   ]
  },
  {
   "cell_type": "code",
   "execution_count": 19,
   "metadata": {
    "collapsed": false
   },
   "outputs": [
    {
     "name": "stdout",
     "output_type": "stream",
     "text": [
      "lr 1.000000e-07 reg 1.000000e+04\n",
      "iteration 0 / 501: loss 159.356613\n",
      "iteration 100 / 501: loss 128.258506\n",
      "iteration 200 / 501: loss 105.029851\n",
      "iteration 300 / 501: loss 85.957442\n",
      "iteration 400 / 501: loss 70.759441\n",
      "iteration 500 / 501: loss 58.202599\n",
      "lr 1.000000e-07 reg 5.000000e+04\n",
      "iteration 0 / 501: loss 778.385084\n",
      "iteration 100 / 501: loss 285.836514\n",
      "iteration 200 / 501: loss 105.965062\n",
      "iteration 300 / 501: loss 40.006778\n",
      "iteration 400 / 501: loss 16.025774\n",
      "iteration 500 / 501: loss 7.185523\n",
      "lr 1.000000e-07 reg 1.000000e+05\n",
      "iteration 0 / 501: loss 1558.908327\n",
      "iteration 100 / 501: loss 210.043465\n",
      "iteration 200 / 501: loss 29.974434\n",
      "iteration 300 / 501: loss 5.869687\n",
      "iteration 400 / 501: loss 2.613490\n",
      "iteration 500 / 501: loss 2.214716\n",
      "lr 3.000000e-07 reg 1.000000e+04\n",
      "iteration 0 / 501: loss 162.395792\n",
      "iteration 100 / 501: loss 87.935613\n",
      "iteration 200 / 501: loss 48.878151\n",
      "iteration 300 / 501: loss 27.470009\n",
      "iteration 400 / 501: loss 15.888615\n",
      "iteration 500 / 501: loss 9.572004\n",
      "lr 3.000000e-07 reg 5.000000e+04\n",
      "iteration 0 / 501: loss 767.458942\n",
      "iteration 100 / 501: loss 38.974457\n",
      "iteration 200 / 501: loss 3.845862\n",
      "iteration 300 / 501: loss 2.225654\n",
      "iteration 400 / 501: loss 2.122852\n",
      "iteration 500 / 501: loss 2.064812\n",
      "lr 3.000000e-07 reg 1.000000e+05\n",
      "iteration 0 / 501: loss 1535.053815\n",
      "iteration 100 / 501: loss 5.593296\n",
      "iteration 200 / 501: loss 2.181093\n",
      "iteration 300 / 501: loss 2.086742\n",
      "iteration 400 / 501: loss 2.167526\n",
      "iteration 500 / 501: loss 2.157242\n",
      "lr 5.000000e-07 reg 1.000000e+04\n",
      "iteration 0 / 501: loss 158.142722\n",
      "iteration 100 / 501: loss 57.677051\n",
      "iteration 200 / 501: loss 22.322852\n",
      "iteration 300 / 501: loss 9.403191\n",
      "iteration 400 / 501: loss 4.595957\n",
      "iteration 500 / 501: loss 2.884131\n",
      "lr 5.000000e-07 reg 5.000000e+04\n",
      "iteration 0 / 501: loss 780.761774\n",
      "iteration 100 / 501: loss 7.005907\n",
      "iteration 200 / 501: loss 2.145209\n",
      "iteration 300 / 501: loss 2.120214\n",
      "iteration 400 / 501: loss 2.078055\n",
      "iteration 500 / 501: loss 2.074058\n",
      "lr 5.000000e-07 reg 1.000000e+05\n",
      "iteration 0 / 501: loss 1532.464052\n",
      "iteration 100 / 501: loss 2.194585\n",
      "iteration 200 / 501: loss 2.135282\n",
      "iteration 300 / 501: loss 2.136637\n",
      "iteration 400 / 501: loss 2.132282\n",
      "iteration 500 / 501: loss 2.151157\n",
      "lr 7.000000e-07 reg 1.000000e+04\n",
      "iteration 0 / 501: loss 160.803165\n",
      "iteration 100 / 501: loss 39.495863\n",
      "iteration 200 / 501: loss 11.125102\n",
      "iteration 300 / 501: loss 4.209262\n",
      "iteration 400 / 501: loss 2.484764\n",
      "iteration 500 / 501: loss 1.963249\n",
      "lr 7.000000e-07 reg 5.000000e+04\n",
      "iteration 0 / 501: loss 766.577773\n",
      "iteration 100 / 501: loss 2.710658\n",
      "iteration 200 / 501: loss 2.107285\n",
      "iteration 300 / 501: loss 2.071332\n",
      "iteration 400 / 501: loss 2.104723\n",
      "iteration 500 / 501: loss 2.025864\n",
      "lr 7.000000e-07 reg 1.000000e+05\n",
      "iteration 0 / 501: loss 1550.491971\n",
      "iteration 100 / 501: loss 2.125084\n",
      "iteration 200 / 501: loss 2.108987\n",
      "iteration 300 / 501: loss 2.155883\n",
      "iteration 400 / 501: loss 2.177699\n",
      "iteration 500 / 501: loss 2.135744\n",
      "lr 1.000000e-07 reg 1.000000e+04 train accuracy: 0.231367 val accuracy: 0.241000\n",
      "lr 1.000000e-07 reg 5.000000e+04 train accuracy: 0.311429 val accuracy: 0.329000\n",
      "lr 1.000000e-07 reg 1.000000e+05 train accuracy: 0.304061 val accuracy: 0.323000\n",
      "lr 3.000000e-07 reg 1.000000e+04 train accuracy: 0.333000 val accuracy: 0.349000\n",
      "lr 3.000000e-07 reg 5.000000e+04 train accuracy: 0.324102 val accuracy: 0.337000\n",
      "lr 3.000000e-07 reg 1.000000e+05 train accuracy: 0.295245 val accuracy: 0.314000\n",
      "lr 5.000000e-07 reg 1.000000e+04 train accuracy: 0.367245 val accuracy: 0.382000\n",
      "lr 5.000000e-07 reg 5.000000e+04 train accuracy: 0.327592 val accuracy: 0.332000\n",
      "lr 5.000000e-07 reg 1.000000e+05 train accuracy: 0.292592 val accuracy: 0.313000\n",
      "lr 7.000000e-07 reg 1.000000e+04 train accuracy: 0.370673 val accuracy: 0.386000\n",
      "lr 7.000000e-07 reg 5.000000e+04 train accuracy: 0.316082 val accuracy: 0.330000\n",
      "lr 7.000000e-07 reg 1.000000e+05 train accuracy: 0.290816 val accuracy: 0.304000\n",
      "best validation accuracy achieved during cross-validation: 0.386000\n"
     ]
    }
   ],
   "source": [
    "# Use the validation set to tune hyperparameters (regularization strength and\n",
    "# learning rate). You should experiment with different ranges for the learning\n",
    "# rates and regularization strengths; if you are careful you should be able to\n",
    "# get a classification accuracy of over 0.35 on the validation set.\n",
    "from cs231n.classifiers import Softmax\n",
    "results = {}\n",
    "best_val = -1\n",
    "best_softmax = None\n",
    "learning_rates = [1e-7, 3e-7, 5e-7, 7e-7]\n",
    "regularization_strengths = [1e4, 5e4, 1e5]\n",
    "\n",
    "################################################################################\n",
    "# TODO:                                                                        #\n",
    "# Use the validation set to set the learning rate and regularization strength. #\n",
    "# This should be identical to the validation that you did for the SVM; save    #\n",
    "# the best trained softmax classifer in best_softmax.                          #\n",
    "################################################################################\n",
    "for lr in learning_rates:\n",
    "    for reg in regularization_strengths:\n",
    "        print 'lr %e reg %e' % (lr, reg)\n",
    "        sm = Softmax()\n",
    "        loss_hist = sm.train(X_train, y_train, learning_rate=lr, reg=reg,\n",
    "                      num_iters=501, verbose=True)\n",
    "        y_train_pred = sm.predict(X_train)\n",
    "        train_accuracy = np.mean(y_train == y_train_pred)\n",
    "        y_val_pred = sm.predict(X_val)\n",
    "        val_accuracy = np.mean(y_val == y_val_pred)\n",
    "        if (val_accuracy > best_val):\n",
    "            best_softmax = sm\n",
    "            best_val = val_accuracy       \n",
    "        results[(lr,reg)] = (train_accuracy, val_accuracy)\n",
    "\n",
    "################################################################################\n",
    "#                              END OF YOUR CODE                                #\n",
    "################################################################################\n",
    "    \n",
    "# Print out results.\n",
    "for lr, reg in sorted(results):\n",
    "    train_accuracy, val_accuracy = results[(lr, reg)]\n",
    "    print 'lr %e reg %e train accuracy: %f val accuracy: %f' % (\n",
    "                lr, reg, train_accuracy, val_accuracy)\n",
    "    \n",
    "print 'best validation accuracy achieved during cross-validation: %f' % best_val"
   ]
  },
  {
   "cell_type": "code",
   "execution_count": 20,
   "metadata": {
    "collapsed": false
   },
   "outputs": [
    {
     "name": "stdout",
     "output_type": "stream",
     "text": [
      "softmax on raw pixels final test set accuracy: 0.366000\n"
     ]
    }
   ],
   "source": [
    "# evaluate on test set\n",
    "# Evaluate the best softmax on test set\n",
    "y_test_pred = best_softmax.predict(X_test)\n",
    "test_accuracy = np.mean(y_test == y_test_pred)\n",
    "print 'softmax on raw pixels final test set accuracy: %f' % (test_accuracy, )"
   ]
  },
  {
   "cell_type": "code",
   "execution_count": 21,
   "metadata": {
    "collapsed": false
   },
   "outputs": [
    {
     "data": {
      "image/png": "[encoded data removed]",
      "text/plain": [
       "<matplotlib.figure.Figure at 0x117615f90>"
      ]
     },
     "metadata": {},
     "output_type": "display_data"
    }
   ],
   "source": [
    "# Visualize the learned weights for each class\n",
    "w = best_softmax.W[:-1,:] # strip out the bias\n",
    "w = w.reshape(32, 32, 3, 10)\n",
    "\n",
    "w_min, w_max = np.min(w), np.max(w)\n",
    "\n",
    "classes = ['plane', 'car', 'bird', 'cat', 'deer', 'dog', 'frog', 'horse', 'ship', 'truck']\n",
    "for i in xrange(10):\n",
    "  plt.subplot(2, 5, i + 1)\n",
    "  \n",
    "  # Rescale the weights to be between 0 and 255\n",
    "  wimg = 255.0 * (w[:, :, :, i].squeeze() - w_min) / (w_max - w_min)\n",
    "  plt.imshow(wimg.astype('uint8'))\n",
    "  plt.axis('off')\n",
    "  plt.title(classes[i])"
   ]
  },
  {
   "cell_type": "code",
   "execution_count": null,
   "metadata": {
    "collapsed": true
   },
   "outputs": [],
   "source": []
  }
 ],
 "metadata": {
  "anaconda-cloud": {},
  "kernelspec": {
   "display_name": "Python [default]",
   "language": "python",
   "name": "python2"
  },
  "language_info": {
   "codemirror_mode": {
    "name": "ipython",
    "version": 2
   },
   "file_extension": ".py",
   "mimetype": "text/x-python",
   "name": "python",
   "nbconvert_exporter": "python",
   "pygments_lexer": "ipython2",
   "version": "2.7.12"
  }
 },
 "nbformat": 4,
 "nbformat_minor": 0
}
